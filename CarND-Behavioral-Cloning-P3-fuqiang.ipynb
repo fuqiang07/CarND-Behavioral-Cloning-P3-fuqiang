{
 "cells": [
  {
   "cell_type": "markdown",
   "metadata": {},
   "source": [
    "# **Behavioral Cloning** \n",
    "\n",
    "---\n",
    "\n",
    "**Behavioral Cloning Project**\n",
    "\n",
    "The goals / steps of this project are the following:\n",
    "* Use the simulator to collect data of good driving behavior\n",
    "* Build, a convolution neural network in Keras that predicts steering angles from images\n",
    "* Train and validate the model with a training and validation set\n",
    "* Test that the model successfully drives around track one without leaving the road\n",
    "* Summarize the results with a written report"
   ]
  },
  {
   "cell_type": "markdown",
   "metadata": {},
   "source": [
    "## Import Libraries"
   ]
  },
  {
   "cell_type": "code",
   "execution_count": 1,
   "metadata": {},
   "outputs": [
    {
     "name": "stderr",
     "output_type": "stream",
     "text": [
      "Using TensorFlow backend.\n"
     ]
    }
   ],
   "source": [
    "\"\"\"\n",
    "import libraries\n",
    "\"\"\"\n",
    "import csv\n",
    "import cv2\n",
    "import numpy as np\n",
    "\n",
    "import matplotlib\n",
    "import matplotlib.pyplot as plt\n",
    "\n",
    "from sklearn.model_selection import train_test_split\n",
    "from sklearn.utils import shuffle\n",
    "\n",
    "from keras.models import Sequential\n",
    "from keras.layers import Lambda, Dense, Convolution2D, MaxPooling2D, Dropout, Activation, Flatten, Cropping2D\n",
    "from keras.optimizers import Adam\n",
    "from keras.callbacks import ModelCheckpoint"
   ]
  },
  {
   "cell_type": "code",
   "execution_count": 2,
   "metadata": {},
   "outputs": [],
   "source": [
    "np.random.seed(0)"
   ]
  },
  {
   "cell_type": "markdown",
   "metadata": {},
   "source": [
    "## Parameters"
   ]
  },
  {
   "cell_type": "code",
   "execution_count": 3,
   "metadata": {},
   "outputs": [
    {
     "name": "stdout",
     "output_type": "stream",
     "text": [
      "------------------------------\n",
      "My Hyperparameters\n",
      "------------------------------\n",
      "test_size            := 0.2\n",
      "bool_udacity_data    := True\n",
      "nb_epoch             := 5\n",
      "keep_prob            := 0.7\n",
      "use_left_data        := True\n",
      "bool_my_data_2       := True\n",
      "use_right_data       := True\n",
      "debug_mode           := True\n",
      "img_dir              := ['../data/Udacity/', '../data/T1_Regular/IMG/', '../data/T1_Counter/IMG/']\n",
      "batch_size           := 64\n",
      "learning_rate        := 0.001\n",
      "steer_corr           := 0.2\n",
      "bool_my_data_1       := True\n",
      "csv_path             := ['../data/Udacity/driving_log.csv', '../data/T1_Regular/driving_log.csv', '../data/T1_Counter/driving_log.csv']\n",
      "------------------------------\n"
     ]
    }
   ],
   "source": [
    "args = {\n",
    "    'test_size': 0.2,\n",
    "    'keep_prob': 0.7,\n",
    "    'nb_epoch': 5,\n",
    "    'batch_size': 64,\n",
    "    'learning_rate': 1.0e-3,\n",
    "    \n",
    "    'debug_mode':True,\n",
    "    \n",
    "    'bool_udacity_data': True,\n",
    "    'bool_my_data_1': True,\n",
    "    'bool_my_data_2': True,\n",
    "    'csv_path': [\n",
    "        '../data/Udacity/driving_log.csv',\n",
    "        '../data/T1_Regular/driving_log.csv',\n",
    "        '../data/T1_Counter/driving_log.csv'\n",
    "    ],\n",
    "    'img_dir': [\n",
    "        '../data/Udacity/',\n",
    "        '../data/T1_Regular/IMG/',\n",
    "        '../data/T1_Counter/IMG/'\n",
    "    ],\n",
    "    \n",
    "    'steer_corr': 0.2,\n",
    "    'use_left_data': True,\n",
    "    'use_right_data': True\n",
    "}\n",
    "\n",
    "print('-' * 30)\n",
    "print('My Hyperparameters')\n",
    "print('-' * 30)\n",
    "for key, value in args.items():\n",
    "    print('{:<20} := {}'.format(key, value))\n",
    "print('-' * 30)"
   ]
  },
  {
   "cell_type": "markdown",
   "metadata": {},
   "source": [
    "## 1. Load Data"
   ]
  },
  {
   "cell_type": "markdown",
   "metadata": {},
   "source": [
    "#### 1.1 Load image paths and steering data"
   ]
  },
  {
   "cell_type": "code",
   "execution_count": 4,
   "metadata": {},
   "outputs": [],
   "source": [
    "def load_data(args):\n",
    "    \"\"\"\n",
    "    Function: Load training data\n",
    "    Input:\n",
    "        args: input parameters saved in the type of parser.parse_args\n",
    "    Output:\n",
    "        image_paths: \n",
    "        labels:\n",
    "    \"\"\"\n",
    "\n",
    "    if args['debug_mode'] is True:\n",
    "        print(\"LOADING DATA......\")\n",
    "        \n",
    "    image_paths = list()\n",
    "    labels = list()\n",
    "\n",
    "    steer_corr = args['steer_corr']\n",
    "    use_left_data = args['use_left_data']\n",
    "    use_right_data = args['use_right_data']\n",
    "\n",
    "    bool_udacity_data = args['bool_udacity_data']\n",
    "    bool_my_data_1 = args['bool_my_data_1']\n",
    "    bool_my_data_2 = args['bool_my_data_2']\n",
    "    data_to_use = [bool_udacity_data, bool_my_data_1, bool_my_data_2]\n",
    "    csv_path = args['csv_path']\n",
    "    img_dir = args['img_dir']\n",
    "\n",
    "    for idx in range(len(data_to_use)):\n",
    "        if not data_to_use[idx]:\n",
    "            print('not using dataset', idx)\n",
    "            continue\n",
    "\n",
    "        lines = list()\n",
    "        # Import data from csv file\n",
    "        with open(csv_path[idx], newline='') as csvfile:\n",
    "            reader = csv.reader(csvfile, skipinitialspace=True, delimiter=',', quoting=csv.QUOTE_NONE)\n",
    "            for line in reader:\n",
    "                lines.append(line)\n",
    "\n",
    "            # print(\"The number of rows in dataset {} is {}\".format(idx, len(lines)-1))\n",
    "\n",
    "        for line in lines[1:]:\n",
    "            # skip the data with ~0 speed\n",
    "            if float(line[6]) < 0.1 :\n",
    "                continue\n",
    "\n",
    "            # center data\n",
    "            img_path_center = img_dir[idx] + line[0].split('\\\\')[-1]\n",
    "            image_paths.append(img_path_center)\n",
    "            label_center = float(line[3])\n",
    "            labels.append(label_center)\n",
    "\n",
    "            # left data\n",
    "            if use_left_data:\n",
    "                img_path_left = img_dir[idx] + line[1].split('\\\\')[-1]\n",
    "                image_paths.append(img_path_left)\n",
    "                label_left = float(line[3]) + steer_corr\n",
    "                labels.append(label_left)\n",
    "\n",
    "            # right data\n",
    "            if use_right_data:\n",
    "                img_path_left = img_dir[idx] + line[2].split('\\\\')[-1]\n",
    "                image_paths.append(img_path_left)\n",
    "                label_left = float(line[3]) - steer_corr\n",
    "                labels.append(label_left)\n",
    "\n",
    "    image_paths = np.array(image_paths)\n",
    "    labels = np.array(labels)\n",
    "    \n",
    "    return image_paths, labels"
   ]
  },
  {
   "cell_type": "code",
   "execution_count": 5,
   "metadata": {},
   "outputs": [
    {
     "name": "stdout",
     "output_type": "stream",
     "text": [
      "LOADING DATA......\n",
      "Total images: (64167,) \n",
      "Total labels: (64167,) \n"
     ]
    }
   ],
   "source": [
    "image_paths_ori, labels_ori = load_data(args)\n",
    "print(\"Total images: {} \".format(image_paths_ori.shape))\n",
    "print(\"Total labels: {} \".format(labels_ori.shape))"
   ]
  },
  {
   "cell_type": "markdown",
   "metadata": {},
   "source": [
    "#### 1.2 Uniform the data\n",
    "Thanks to the useful tips from [Jeremy Shannon](https://github.com/jeremy-shannon/CarND-Behavioral-Cloning-Project)"
   ]
  },
  {
   "cell_type": "code",
   "execution_count": 6,
   "metadata": {},
   "outputs": [],
   "source": [
    "def uniform_data(image_paths_ori, labels_ori, display_mode = False):\n",
    "    \"\"\"\n",
    "    Function: Unifrom the data\n",
    "    Input:\n",
    "        image_paths_ori:\n",
    "        labels_ori:\n",
    "    Output:\n",
    "        image_paths: \n",
    "        labels:\n",
    "    \"\"\"\n",
    "    image_paths = np.copy(image_paths_ori)\n",
    "    labels = np.copy(labels_ori)\n",
    "    \n",
    "    num_bins = 23\n",
    "    avg_samples_per_bin = len(labels_ori)/num_bins\n",
    "    \n",
    "    hist, bins = np.histogram(labels_ori, num_bins)\n",
    "    \n",
    "    # uniform the data by shrinking those over the average \n",
    "    keep_probs = []\n",
    "    target = avg_samples_per_bin * 1.0\n",
    "    for i in range(num_bins):\n",
    "        if hist[i] < target:\n",
    "            keep_probs.append(1.)\n",
    "        else:\n",
    "            keep_probs.append(1./(hist[i]/target))\n",
    "    remove_list = []\n",
    "    for i in range(len(labels)):\n",
    "        for j in range(num_bins):\n",
    "            if labels[i] > bins[j] and labels[i] <= bins[j+1]:\n",
    "                # delete from X and y with probability 1 - keep_probs[j]\n",
    "                if np.random.rand() > keep_probs[j]:\n",
    "                    remove_list.append(i)\n",
    "    image_paths = np.delete(image_paths, remove_list, axis=0)\n",
    "    labels = np.delete(labels, remove_list)\n",
    "    \n",
    "    if display_mode is True:\n",
    "        \n",
    "        width = 0.7 * (bins[1] - bins[0])\n",
    "        center = (bins[:-1] + bins[1:]) / 2\n",
    "        plt.bar(center, hist, align='center', width=width, color = 'b')\n",
    "        \n",
    "        hist, bins = np.histogram(labels, num_bins)\n",
    "        plt.bar(center, hist, align='center', width=width, color = 'r')\n",
    "        \n",
    "        plt.plot((np.min(labels), np.max(labels)), (avg_samples_per_bin, avg_samples_per_bin), 'k-')\n",
    "    \n",
    "    return image_paths, labels"
   ]
  },
  {
   "cell_type": "code",
   "execution_count": 7,
   "metadata": {},
   "outputs": [
    {
     "name": "stdout",
     "output_type": "stream",
     "text": [
      "Total images shrink from (64167,) to (22943,) after uniform process\n"
     ]
    },
    {
     "data": {
      "image/png": "[encoded data removed]",
      "text/plain": [
       "<matplotlib.figure.Figure at 0x21e2a779208>"
      ]
     },
     "metadata": {},
     "output_type": "display_data"
    }
   ],
   "source": [
    "image_paths, labels = uniform_data(image_paths_ori, labels_ori, display_mode = True)\n",
    "print(\"Total images shrink from {} to {} after uniform process\".format(image_paths_ori.shape, image_paths.shape))"
   ]
  },
  {
   "cell_type": "markdown",
   "metadata": {},
   "source": [
    "#### 1.3 Split the data"
   ]
  },
  {
   "cell_type": "code",
   "execution_count": 8,
   "metadata": {},
   "outputs": [
    {
     "name": "stdout",
     "output_type": "stream",
     "text": [
      "Total: (22943,) (22943,)\n",
      "Training: (18354,) (18354,)\n",
      "Test: (4589,) (4589,)\n"
     ]
    }
   ],
   "source": [
    "image_paths_train, image_paths_test, labels_train, labels_test = train_test_split(image_paths,\n",
    "                                                                                  labels,\n",
    "                                                                                  test_size=args['test_size'],\n",
    "                                                                                  random_state=42)\n",
    "print('Total:', image_paths.shape, labels.shape)\n",
    "print('Training:', image_paths_train.shape, labels_train.shape)\n",
    "print('Test:', image_paths_test.shape, labels_test.shape)"
   ]
  },
  {
   "cell_type": "markdown",
   "metadata": {},
   "source": [
    "#### 1.4 (Just for Test) Select some data randomly for debugging"
   ]
  },
  {
   "cell_type": "code",
   "execution_count": 9,
   "metadata": {},
   "outputs": [
    {
     "name": "stdout",
     "output_type": "stream",
     "text": [
      "Training: (64,) (64,)\n",
      "Test: (16,) (16,)\n"
     ]
    }
   ],
   "source": [
    "# Comment them when running the whole set of data\n",
    "indices_train = np.random.randint(0, len(image_paths_train), 64)\n",
    "indices_test = np.random.randint(0, len(image_paths_test), 16)\n",
    "image_paths_train = image_paths_train[indices_train]\n",
    "labels_train = labels_train[indices_train]\n",
    "image_paths_test = image_paths_test[indices_test]\n",
    "labels_test = labels_test[indices_test]\n",
    "\n",
    "print('Training:', image_paths_train.shape, labels_train.shape)\n",
    "print('Test:', image_paths_test.shape, labels_test.shape)"
   ]
  },
  {
   "cell_type": "markdown",
   "metadata": {},
   "source": [
    "#### 1.5 Load images with generator"
   ]
  },
  {
   "cell_type": "code",
   "execution_count": 10,
   "metadata": {},
   "outputs": [],
   "source": [
    "def generator(X_path, y, batch_size=64):\n",
    "    \"\"\"\n",
    "    Object: define a generator to extract training data and test data\n",
    "    \n",
    "    Generators can be a great way to work with large amounts of data. Instead of storing \n",
    "    the preprocessed data in memory all at once, using a generator you can pull pieces of \n",
    "    the data and process them on the fly only when you need them, which is much more memory-efficient.\n",
    "    \n",
    "    A generator is like a coroutine, a process that can run separately from another main routine, \n",
    "    which makes it a useful Python function. Instead of using return, the generator uses yield, \n",
    "    which still returns the desired output values but saves the current values of all the generator's\n",
    "    variables. When the generator is called a second time it re-starts right after the yield statement, \n",
    "    with all its variables set to the same values as before.\n",
    "    \"\"\"\n",
    "    num_samples = len(X_path)    \n",
    "    \n",
    "    while True: # Loop forever so the generator never terminates\n",
    "        \n",
    "        X_path, y = shuffle(X_path, y)\n",
    "        for offset in range(0, num_samples, int(batch_size/2)):\n",
    "            # Half batch size is used, since images are flipped in the following codes\n",
    "            X_path_sub = X_path[offset:offset + int(batch_size/2)]\n",
    "            y_sub   = y[offset:offset + int(batch_size/2)]\n",
    "\n",
    "            images = []\n",
    "            for image_path in X_path_sub:\n",
    "                image = cv2.cvtColor(cv2.imread(image_path),cv2.COLOR_BGR2RGB)\n",
    "                image_aug = cv2.flip(image,1)\n",
    "                images.append(image)\n",
    "                images.append(image_aug)\n",
    "            labels = []\n",
    "            for label in y_sub:\n",
    "                labels.extend([float(label),float(label)*-1])\n",
    "\n",
    "            X_batch = np.array(images,dtype='float64')\n",
    "            y_batch = np.array(labels,dtype='float64')\n",
    "\n",
    "            yield shuffle(X_batch, y_batch)"
   ]
  },
  {
   "cell_type": "code",
   "execution_count": 11,
   "metadata": {},
   "outputs": [],
   "source": [
    "train_gen = generator(image_paths_train, labels_train, batch_size=args['batch_size'])\n",
    "test_gen = generator(image_paths_test, labels_test, batch_size=args['batch_size'])"
   ]
  },
  {
   "cell_type": "markdown",
   "metadata": {},
   "source": [
    "## Model"
   ]
  },
  {
   "cell_type": "code",
   "execution_count": 12,
   "metadata": {},
   "outputs": [],
   "source": [
    "def build_model(args):\n",
    "    \"\"\"\n",
    "    Function: Build a deep learning model\n",
    "    Input:\n",
    "        args: input parameters saved in the type of parser.parse_args\n",
    "    Output:\n",
    "    \"\"\"\n",
    "    if args['debug_mode'] is True:\n",
    "        print(\"BUILDING MODEL......\")\n",
    "        \n",
    "    model = Sequential()\n",
    "    \n",
    "    # Normalize\n",
    "    model.add(Lambda(lambda x: x/255.0-0.5, input_shape=(160,320,3)))\n",
    "    \n",
    "    # Add a layer to crop images\n",
    "    model.add(Cropping2D(cropping=((70,25), (0,0))))  # remaining size: 65,320,3\n",
    "    \n",
    "    # Add three 5x5 convolution layers\n",
    "    model.add(Convolution2D(24, 5, 5, activation='elu', subsample=(2, 2)))\n",
    "    model.add(Convolution2D(36, 5, 5, activation='elu', subsample=(2, 2)))\n",
    "    model.add(Convolution2D(48, 5, 5, activation='elu', subsample=(2, 2)))\n",
    "    \n",
    "    # Add two 3x3 convolution layers\n",
    "    model.add(Convolution2D(64, 3, 3, activation='elu'))\n",
    "    model.add(Convolution2D(64, 3, 3, activation='elu'))\n",
    "    \n",
    "    # Add a flatten layer\n",
    "    model.add(Flatten())\n",
    "    \n",
    "    # Add a dropout to overcome overfitting\n",
    "    model.add(Dropout(args['keep_prob']))\n",
    "    \n",
    "    # Add three fully connected layers\n",
    "    model.add(Dense(100, activation='elu'))\n",
    "    model.add(Dense(50, activation='elu'))\n",
    "    model.add(Dense(10, activation='elu'))\n",
    "    \n",
    "    # Add a fully connected output layer\n",
    "    model.add(Dense(1))\n",
    "    \n",
    "    # Summary\n",
    "    model.summary()\n",
    "    \n",
    "    return model"
   ]
  },
  {
   "cell_type": "code",
   "execution_count": 13,
   "metadata": {},
   "outputs": [
    {
     "name": "stdout",
     "output_type": "stream",
     "text": [
      "BUILDING MODEL......\n",
      "_________________________________________________________________\n",
      "Layer (type)                 Output Shape              Param #   \n",
      "=================================================================\n",
      "lambda_1 (Lambda)            (None, 160, 320, 3)       0         \n",
      "_________________________________________________________________\n",
      "cropping2d_1 (Cropping2D)    (None, 65, 320, 3)        0         \n",
      "_________________________________________________________________\n",
      "conv2d_1 (Conv2D)            (None, 31, 158, 24)       1824      \n",
      "_________________________________________________________________\n",
      "conv2d_2 (Conv2D)            (None, 14, 77, 36)        21636     \n",
      "_________________________________________________________________\n",
      "conv2d_3 (Conv2D)            (None, 5, 37, 48)         43248     \n",
      "_________________________________________________________________\n",
      "conv2d_4 (Conv2D)            (None, 3, 35, 64)         27712     \n",
      "_________________________________________________________________\n",
      "conv2d_5 (Conv2D)            (None, 1, 33, 64)         36928     \n",
      "_________________________________________________________________\n",
      "flatten_1 (Flatten)          (None, 2112)              0         \n",
      "_________________________________________________________________\n",
      "dropout_1 (Dropout)          (None, 2112)              0         \n",
      "_________________________________________________________________\n",
      "dense_1 (Dense)              (None, 100)               211300    \n",
      "_________________________________________________________________\n",
      "dense_2 (Dense)              (None, 50)                5050      \n",
      "_________________________________________________________________\n",
      "dense_3 (Dense)              (None, 10)                510       \n",
      "_________________________________________________________________\n",
      "dense_4 (Dense)              (None, 1)                 11        \n",
      "=================================================================\n",
      "Total params: 348,219\n",
      "Trainable params: 348,219\n",
      "Non-trainable params: 0\n",
      "_________________________________________________________________\n"
     ]
    },
    {
     "name": "stderr",
     "output_type": "stream",
     "text": [
      "C:\\Users\\yipen\\Anaconda3\\envs\\carnd-term1\\lib\\site-packages\\ipykernel_launcher.py:20: UserWarning: Update your `Conv2D` call to the Keras 2 API: `Conv2D(24, (5, 5), activation=\"elu\", strides=(2, 2))`\n",
      "C:\\Users\\yipen\\Anaconda3\\envs\\carnd-term1\\lib\\site-packages\\ipykernel_launcher.py:21: UserWarning: Update your `Conv2D` call to the Keras 2 API: `Conv2D(36, (5, 5), activation=\"elu\", strides=(2, 2))`\n",
      "C:\\Users\\yipen\\Anaconda3\\envs\\carnd-term1\\lib\\site-packages\\ipykernel_launcher.py:22: UserWarning: Update your `Conv2D` call to the Keras 2 API: `Conv2D(48, (5, 5), activation=\"elu\", strides=(2, 2))`\n",
      "C:\\Users\\yipen\\Anaconda3\\envs\\carnd-term1\\lib\\site-packages\\ipykernel_launcher.py:25: UserWarning: Update your `Conv2D` call to the Keras 2 API: `Conv2D(64, (3, 3), activation=\"elu\")`\n",
      "C:\\Users\\yipen\\Anaconda3\\envs\\carnd-term1\\lib\\site-packages\\ipykernel_launcher.py:26: UserWarning: Update your `Conv2D` call to the Keras 2 API: `Conv2D(64, (3, 3), activation=\"elu\")`\n"
     ]
    }
   ],
   "source": [
    "model = build_model(args)"
   ]
  },
  {
   "cell_type": "markdown",
   "metadata": {},
   "source": [
    "## Training"
   ]
  },
  {
   "cell_type": "code",
   "execution_count": 14,
   "metadata": {},
   "outputs": [],
   "source": [
    "def train_model(model, args, train_gen, test_gen, image_paths_train, image_paths_test):\n",
    "    \"\"\"\n",
    "    Function: train the model\n",
    "    Input:\n",
    "        model: built model \n",
    "        args: input parameters saved in the type of parser.parse_args\n",
    "        data: traning and validation data\n",
    "    Output:\n",
    "    \"\"\"\n",
    "    if args['debug_mode'] is True:\n",
    "        print(\"Training MODEL......\")\n",
    "\n",
    "    model.compile(loss='mse', optimizer='adam')\n",
    "    \n",
    "    model.fit_generator(train_gen,\n",
    "                        validation_data=test_gen,\n",
    "                        samples_per_epoch=len(image_paths_train)*2, # 2 for flip\n",
    "                        nb_val_samples=len(image_paths_test)*2,  # 2 for flip\n",
    "                        nb_epoch=args['nb_epoch'])\n",
    "                        \n",
    "    \n",
    "    #checkpoint = ModelCheckpoint('model-{epoch:03d}.h5')\n",
    "    model.save('model.h5')\n"
   ]
  },
  {
   "cell_type": "code",
   "execution_count": 15,
   "metadata": {},
   "outputs": [
    {
     "name": "stdout",
     "output_type": "stream",
     "text": [
      "Training MODEL......\n"
     ]
    },
    {
     "name": "stderr",
     "output_type": "stream",
     "text": [
      "C:\\Users\\yipen\\Anaconda3\\envs\\carnd-term1\\lib\\site-packages\\ipykernel_launcher.py:19: UserWarning: The semantics of the Keras 2 argument `steps_per_epoch` is not the same as the Keras 1 argument `samples_per_epoch`. `steps_per_epoch` is the number of batches to draw from the generator at each epoch. Basically steps_per_epoch = samples_per_epoch/batch_size. Similarly `nb_val_samples`->`validation_steps` and `val_samples`->`steps` arguments have changed. Update your method calls accordingly.\n",
      "C:\\Users\\yipen\\Anaconda3\\envs\\carnd-term1\\lib\\site-packages\\ipykernel_launcher.py:19: UserWarning: Update your `fit_generator` call to the Keras 2 API: `fit_generator(<generator..., steps_per_epoch=128, epochs=5, validation_data=<generator..., validation_steps=32)`\n"
     ]
    },
    {
     "name": "stdout",
     "output_type": "stream",
     "text": [
      "Epoch 1/5\n",
      "128/128 [==============================] - 109s 854ms/step - loss: 0.0141 - val_loss: 0.0761\n",
      "Epoch 2/5\n",
      "128/128 [==============================] - 63s 491ms/step - loss: 0.0023 - val_loss: 0.0692\n",
      "Epoch 3/5\n",
      "128/128 [==============================] - 64s 496ms/step - loss: 0.0017 - val_loss: 0.0692\n",
      "Epoch 4/5\n",
      "128/128 [==============================] - 63s 488ms/step - loss: 0.0013 - val_loss: 0.0659\n",
      "Epoch 5/5\n",
      "128/128 [==============================] - 63s 490ms/step - loss: 0.0011 - val_loss: 0.0648\n",
      "DONE!\n"
     ]
    }
   ],
   "source": [
    "train_model(model, args, train_gen, test_gen, image_paths_train, image_paths_test)\n",
    "print(\"DONE!\")"
   ]
  },
  {
   "cell_type": "code",
   "execution_count": null,
   "metadata": {},
   "outputs": [],
   "source": []
  },
  {
   "cell_type": "code",
   "execution_count": null,
   "metadata": {},
   "outputs": [],
   "source": []
  }
 ],
 "metadata": {
  "kernelspec": {
   "display_name": "Python 3",
   "language": "python",
   "name": "python3"
  },
  "language_info": {
   "codemirror_mode": {
    "name": "ipython",
    "version": 3
   },
   "file_extension": ".py",
   "mimetype": "text/x-python",
   "name": "python",
   "nbconvert_exporter": "python",
   "pygments_lexer": "ipython3",
   "version": "3.5.2"
  },
  "widgets": {
   "state": {},
   "version": "1.1.2"
  }
 },
 "nbformat": 4,
 "nbformat_minor": 2
}
